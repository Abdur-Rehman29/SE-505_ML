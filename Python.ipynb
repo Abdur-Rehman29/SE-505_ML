{
 "cells": [
  {
   "cell_type": "code",
   "execution_count": 1,
   "id": "ae37a8cf-fd86-484f-a46f-0a6553f71630",
   "metadata": {},
   "outputs": [
    {
     "name": "stdout",
     "output_type": "stream",
     "text": [
      "Hello World!\n"
     ]
    }
   ],
   "source": [
    "print(\"Hello World!\")"
   ]
  },
  {
   "cell_type": "code",
   "execution_count": 1,
   "id": "dbfd0a12-ba07-4d1c-8c04-d1bc4df9e965",
   "metadata": {},
   "outputs": [
    {
     "data": {
      "text/plain": [
       "str"
      ]
     },
     "execution_count": 1,
     "metadata": {},
     "output_type": "execute_result"
    }
   ],
   "source": [
    "# Type() Function\n",
    "lang ='python'\n",
    "type(lang)"
   ]
  },
  {
   "cell_type": "code",
   "execution_count": 2,
   "id": "f465a17a-87fc-4ade-b187-9c9f34e3a5ab",
   "metadata": {},
   "outputs": [
    {
     "name": "stdout",
     "output_type": "stream",
     "text": [
      "Abdur Rehman\n"
     ]
    }
   ],
   "source": [
    "# Concatenation\n",
    "ee = 'Abdur ' + 'Rehman'\n",
    "print(ee)"
   ]
  },
  {
   "cell_type": "code",
   "execution_count": 3,
   "id": "86330cab-51d4-40ad-a6fa-c25e824818dd",
   "metadata": {},
   "outputs": [
    {
     "name": "stdout",
     "output_type": "stream",
     "text": [
      "4.0\n"
     ]
    }
   ],
   "source": [
    "# Expression \n",
    "ee = 23\n",
    "y = ee * 2 ** 3/4 % 3 + (4 -1)\n",
    "print(y)"
   ]
  },
  {
   "cell_type": "code",
   "execution_count": 4,
   "id": "a7d41d84-f2d6-4e80-bfb9-26daf8069e4b",
   "metadata": {},
   "outputs": [
    {
     "name": "stdin",
     "output_type": "stream",
     "text": [
      "who are You ? Abdur Rehman\n"
     ]
    },
    {
     "name": "stdout",
     "output_type": "stream",
     "text": [
      "Hello  Abdur Rehman\n"
     ]
    },
    {
     "name": "stdin",
     "output_type": "stream",
     "text": [
      "which lang ,You would prefer for ML ? python\n"
     ]
    },
    {
     "name": "stdout",
     "output_type": "stream",
     "text": [
      "python Ohhh! Nice\n"
     ]
    }
   ],
   "source": [
    "# input() Function\n",
    "name = input('who are You ?')\n",
    "print('Hello ',name)\n",
    "lang=input('which lang ,You would prefer for ML ?')\n",
    "print(lang ,'Ohhh! Nice')"
   ]
  },
  {
   "cell_type": "code",
   "execution_count": 5,
   "id": "f019a20c-b6f6-4be1-b243-6842d2e37c77",
   "metadata": {},
   "outputs": [
    {
     "name": "stdin",
     "output_type": "stream",
     "text": [
      "Europe Floor? 3\n"
     ]
    },
    {
     "name": "stdout",
     "output_type": "stream",
     "text": [
      "Europe Floor 4\n"
     ]
    }
   ],
   "source": [
    "# Type Casting\n",
    "inp = input('Europe Floor?')\n",
    "# Type Conversion\n",
    "usf = int(inp) + 1\n",
    "print('Europe Floor',usf)"
   ]
  },
  {
   "cell_type": "code",
   "execution_count": 6,
   "id": "c58041c9-549b-4d08-87db-073788628786",
   "metadata": {},
   "outputs": [
    {
     "name": "stdin",
     "output_type": "stream",
     "text": [
      "Enter Hours: 35\n",
      "Enter rate: 2.75\n"
     ]
    },
    {
     "name": "stdout",
     "output_type": "stream",
     "text": [
      "pay:  96.25\n"
     ]
    }
   ],
   "source": [
    "# Exercise\n",
    "hours =input('Enter Hours:')\n",
    "rate = input('Enter rate:')\n",
    "pay = float(hours) * float(rate)\n",
    "print('pay: ',pay)"
   ]
  },
  {
   "cell_type": "code",
   "execution_count": 7,
   "id": "4fb7c4a6-496a-40bc-a886-72e2a28063c3",
   "metadata": {},
   "outputs": [
    {
     "name": "stdout",
     "output_type": "stream",
     "text": [
      "Hi\n",
      "Hi\n",
      "Hi\n",
      "Hi\n",
      "Buddy\n",
      "Hi\n"
     ]
    }
   ],
   "source": [
    "# indentation \n",
    "for i in range(5):\n",
    "    print('Hi')\n",
    "    if i== 3:\n",
    "        print('Buddy')"
   ]
  },
  {
   "cell_type": "code",
   "execution_count": 8,
   "id": "2b963592-e3cf-48b0-85a0-290fdf803758",
   "metadata": {},
   "outputs": [
    {
     "name": "stdout",
     "output_type": "stream",
     "text": [
      "Bigger than 2\n",
      "Still bigger\n",
      "Done  with 2\n",
      "0\n",
      "Bigger than 2\n",
      "Done with i 0\n",
      "All Done\n",
      "1\n",
      "Bigger than 2\n",
      "Done with i 1\n",
      "All Done\n",
      "2\n",
      "Bigger than 2\n",
      "Done with i 2\n",
      "All Done\n",
      "3\n",
      "Bigger than 2\n",
      "Done with i 3\n",
      "All Done\n",
      "4\n",
      "Bigger than 2\n",
      "Done with i 4\n",
      "All Done\n"
     ]
    }
   ],
   "source": [
    "x = 5\n",
    "if x > 2:\n",
    "    print('Bigger than 2')\n",
    "    print('Still bigger')\n",
    "    print('Done  with 2')\n",
    "    for i in range(5):\n",
    "        print(i)\n",
    "        if x > 2:\n",
    "            print('Bigger than 2')\n",
    "            print('Done with i',i)\n",
    "            print('All Done')"
   ]
  },
  {
   "cell_type": "code",
   "execution_count": 9,
   "id": "625d6f0f-7282-4109-8a1a-ccf867ff8ecb",
   "metadata": {},
   "outputs": [
    {
     "name": "stdout",
     "output_type": "stream",
     "text": [
      "Medium\n",
      "All Done\n"
     ]
    }
   ],
   "source": [
    "# if, elif, else \n",
    "x = 5\n",
    "if x < 2:\n",
    "    print('small')\n",
    "elif x < 10:\n",
    "    print('Medium')\n",
    "else:\n",
    "    print('Bigger')\n",
    "print('All Done')    "
   ]
  },
  {
   "cell_type": "code",
   "execution_count": 10,
   "id": "642b9b16-41b2-4de9-a6d7-dd390dc1c869",
   "metadata": {},
   "outputs": [
    {
     "name": "stdout",
     "output_type": "stream",
     "text": [
      "Second 123\n"
     ]
    }
   ],
   "source": [
    "# Type casting\n",
    "astr= '123'\n",
    "istr= int(astr)\n",
    "print('Second', istr)"
   ]
  },
  {
   "cell_type": "code",
   "execution_count": 11,
   "id": "ff9609b3-28dc-430c-b00c-52c1c70030ac",
   "metadata": {},
   "outputs": [
    {
     "name": "stdout",
     "output_type": "stream",
     "text": [
      "First -1\n",
      "Second 123\n"
     ]
    }
   ],
   "source": [
    "astr = 'Hello Maann'\n",
    "try:\n",
    "    istr = int(astr)\n",
    "except:\n",
    "    istr = -1\n",
    "print('First', istr)\n",
    "astr2 = '123'\n",
    "try:\n",
    "    istr2 = int(astr2)\n",
    "except:\n",
    "    istr2 = -1\n",
    "print('Second',istr2)"
   ]
  },
  {
   "cell_type": "code",
   "execution_count": 12,
   "id": "c8cf5647-af6e-40f7-af40-1f5d8738b6b6",
   "metadata": {},
   "outputs": [
    {
     "name": "stdin",
     "output_type": "stream",
     "text": [
      "Enter a number: Maani\n"
     ]
    },
    {
     "name": "stdout",
     "output_type": "stream",
     "text": [
      "NOT A Number \n"
     ]
    }
   ],
   "source": [
    "# Try & Except \n",
    "inpstr = input('Enter a number:')\n",
    "try:\n",
    "    ival = int(inpstr)\n",
    "except:\n",
    "    ival = -1\n",
    "if ival >0:\n",
    "    print('Nice Work')\n",
    "else:\n",
    "     print('NOT A Number ')"
   ]
  },
  {
   "cell_type": "code",
   "execution_count": 13,
   "id": "6b91e5db-a45c-4d31-9cb4-d40261f1d326",
   "metadata": {},
   "outputs": [
    {
     "name": "stdin",
     "output_type": "stream",
     "text": [
      "Enter Working Hours: 39\n",
      "Enter per hour Rate: 10\n"
     ]
    },
    {
     "name": "stdout",
     "output_type": "stream",
     "text": [
      "Pay : 390\n"
     ]
    }
   ],
   "source": [
    "# Exercise\n",
    "Hrs = input('Enter Working Hours:')\n",
    "Hrs = int(Hrs)\n",
    "rate = input('Enter per hour Rate:')\n",
    "rate = int(rate)\n",
    "\n",
    "if Hrs <= 40:\n",
    "    Totalpay = Hrs * rate  \n",
    "else:\n",
    "    regularPay = Hrs * rate\n",
    "    overtimePay = (Hrs - 40) * (rate * 1.5)\n",
    "    Totalpay = regularPay + overtimePay\n",
    "print('Pay :',Totalpay)"
   ]
  },
  {
   "cell_type": "code",
   "execution_count": 14,
   "id": "bdbc819f-0ae8-496e-900d-b80e0ec17879",
   "metadata": {},
   "outputs": [
    {
     "name": "stdin",
     "output_type": "stream",
     "text": [
      "Enter Working Hrs: 34\n",
      "Enter Rate per Hr: 10\n"
     ]
    },
    {
     "name": "stdout",
     "output_type": "stream",
     "text": [
      "Pay : 340\n"
     ]
    }
   ],
   "source": [
    "# Exercise with try & except\n",
    "Hrs = input('Enter Working Hrs:')\n",
    "try:\n",
    "    Hrs = int(Hrs)\n",
    "except:\n",
    "     print(' Error, please enter numeric input')\n",
    "rate = input('Enter Rate per Hr:')\n",
    "try:\n",
    "    rate = int(rate)\n",
    "except:\n",
    "    print(' Error, please enter numeric input')\n",
    "if Hrs <=40:\n",
    "     Totalpay = Hrs * rate\n",
    "else:\n",
    "     regularPay = Hrs * rate\n",
    "     overtimePay = (Hrs - 40) * (rate * 1.5)\n",
    "     Totalpay = regularPay + overtimePay\n",
    "print('Pay :',Totalpay)\n",
    "    "
   ]
  },
  {
   "cell_type": "code",
   "execution_count": 15,
   "id": "eccf3c7a-6b7f-4255-a4b9-06a243af8956",
   "metadata": {},
   "outputs": [
    {
     "name": "stdout",
     "output_type": "stream",
     "text": [
      "I'm Abdur Rehman, and I'm okay.\n",
      "I sleep all night and I work all day.\n"
     ]
    }
   ],
   "source": [
    "# Function\n",
    "def print_lyrics(): \n",
    "    print(\"I'm Abdur Rehman, and I'm okay.\")\n",
    "    print('I sleep all night and I work all day.')\n",
    "   \n",
    "print_lyrics()"
   ]
  },
  {
   "cell_type": "code",
   "execution_count": 16,
   "id": "12efdc03-451c-4c1e-950f-9dabeb9dbaa8",
   "metadata": {},
   "outputs": [
    {
     "name": "stdout",
     "output_type": "stream",
     "text": [
      "Hello Buddy\n"
     ]
    }
   ],
   "source": [
    "# Function that return a value\n",
    "def print_Hello():\n",
    "    return 'Hello'\n",
    "\n",
    "print(print_Hello(),'Buddy')"
   ]
  },
  {
   "cell_type": "code",
   "execution_count": 17,
   "id": "1e16a349-ecc9-4255-a1e5-b3a56f18dcea",
   "metadata": {},
   "outputs": [
    {
     "name": "stdin",
     "output_type": "stream",
     "text": [
      "Enter Num1: 12\n",
      "Enter num2: 2\n"
     ]
    },
    {
     "name": "stdout",
     "output_type": "stream",
     "text": [
      "Exponentiation is : 144\n"
     ]
    }
   ],
   "source": [
    "# Passing Parameters in a Function\n",
    "def Power(a,b):\n",
    "    power = a ** b\n",
    "    return power\n",
    "\n",
    "x = input('Enter Num1:')\n",
    "try:\n",
    "    x = int(x)\n",
    "except:\n",
    "    print('Error: Enter a numerical data only.')\n",
    "    \n",
    "y = input('Enter num2:')\n",
    "try:\n",
    "    y = int(y)\n",
    "except:\n",
    "    print('Error: Enter a numerical data only.')\n",
    "\n",
    "var = Power(x,y)\n",
    "print('Exponentiation is :',var)"
   ]
  },
  {
   "cell_type": "code",
   "execution_count": 18,
   "id": "8e99b33d-3b91-48ff-bea7-de2ca5e1ea78",
   "metadata": {},
   "outputs": [
    {
     "name": "stdin",
     "output_type": "stream",
     "text": [
      "Enter Working Hrs: 35\n",
      "Enter rate per Hr: 10\n"
     ]
    },
    {
     "name": "stdout",
     "output_type": "stream",
     "text": [
      "pay : 350\n"
     ]
    }
   ],
   "source": [
    "# Exercise\n",
    "def computepay(Hrs,rate):\n",
    "    if Hrs <= 40:\n",
    "        pay = Hrs * rate\n",
    "        return pay\n",
    "\n",
    "    else:\n",
    "        regularpay = Hrs * rate\n",
    "        overtimepay = (Hrs -40) * (rate * 1.5)\n",
    "        pay = regularpay + overtimepay\n",
    "        return pay\n",
    "\n",
    "Hrs = input('Enter Working Hrs:')\n",
    "Hrs = int(Hrs)\n",
    "rate = input('Enter rate per Hr:')\n",
    "rate = int(rate)\n",
    "\n",
    "var = computepay(Hrs,rate)\n",
    "print('pay :',var)"
   ]
  },
  {
   "cell_type": "code",
   "execution_count": 19,
   "id": "2f161cac-aba0-48a8-a3d2-5d9424144822",
   "metadata": {},
   "outputs": [
    {
     "name": "stdout",
     "output_type": "stream",
     "text": [
      "big: o\n"
     ]
    }
   ],
   "source": [
    "# Max()  Function \n",
    "big = max('Hello Maann')\n",
    "print('big:',big)\n"
   ]
  },
  {
   "cell_type": "code",
   "execution_count": 2,
   "id": "e885c848-03b0-4672-a04c-42e7da5997d3",
   "metadata": {},
   "outputs": [
    {
     "name": "stdout",
     "output_type": "stream",
     "text": [
      "Dry Off!\n"
     ]
    }
   ],
   "source": [
    "# another indefinite Loop\n",
    "n = 0\n",
    "while( n > 0):\n",
    "    print('Lather')\n",
    "    print('Rinse')\n",
    "\n",
    "print('Dry Off!')"
   ]
  },
  {
   "cell_type": "code",
   "execution_count": null,
   "id": "f6f368c8-533a-4595-8a76-c3a93c9f8632",
   "metadata": {},
   "outputs": [],
   "source": [
    "# infinite Loop\n",
    "n = 5\n",
    "while( n > 0):\n",
    "    print('Lather')\n",
    "    print('Rinse')\n",
    "\n",
    "print('Dry Off!')"
   ]
  },
  {
   "cell_type": "code",
   "execution_count": 3,
   "id": "f4aaeece-67d1-4aee-ace4-0d6e5744d4cb",
   "metadata": {},
   "outputs": [
    {
     "name": "stdin",
     "output_type": "stream",
     "text": [
      ">  Hey U! get well soon, okie ?\n"
     ]
    },
    {
     "name": "stdout",
     "output_type": "stream",
     "text": [
      "Hey U! get well soon, okie ?\n"
     ]
    },
    {
     "name": "stdin",
     "output_type": "stream",
     "text": [
      ">  Done\n"
     ]
    },
    {
     "name": "stdout",
     "output_type": "stream",
     "text": [
      "Done!\n"
     ]
    }
   ],
   "source": [
    "# Break Statement\n",
    "while True:\n",
    "    line = input('> ')\n",
    "    if (line == 'Done'):\n",
    "        break\n",
    "    print(line)\n",
    "print('Done!')"
   ]
  },
  {
   "cell_type": "code",
   "execution_count": 4,
   "id": "057b6927-ed9f-456d-9005-983134a8c792",
   "metadata": {},
   "outputs": [
    {
     "name": "stdin",
     "output_type": "stream",
     "text": [
      ">  i'm abdur rehman \n"
     ]
    },
    {
     "name": "stdout",
     "output_type": "stream",
     "text": [
      "i'm abdur rehman \n"
     ]
    },
    {
     "name": "stdin",
     "output_type": "stream",
     "text": [
      ">  from cs department\n"
     ]
    },
    {
     "name": "stdout",
     "output_type": "stream",
     "text": [
      "from cs department\n"
     ]
    },
    {
     "name": "stdin",
     "output_type": "stream",
     "text": [
      ">  Done\n"
     ]
    },
    {
     "name": "stdout",
     "output_type": "stream",
     "text": [
      "Done\n"
     ]
    }
   ],
   "source": [
    "# Continue Statement\n",
    "while True:\n",
    "    line = input('> ')\n",
    "    if line[0] == '#':\n",
    "        continue\n",
    "\n",
    "    if line == 'Done':\n",
    "        break\n",
    "    print(line)\n",
    "\n",
    "print('Done')"
   ]
  },
  {
   "cell_type": "code",
   "execution_count": 5,
   "id": "c6259cca-202f-4d01-b9b0-ea603ce31de3",
   "metadata": {},
   "outputs": [
    {
     "name": "stdout",
     "output_type": "stream",
     "text": [
      "5\n",
      "4\n",
      "3\n",
      "2\n",
      "1\n",
      "BlastOff! \n"
     ]
    }
   ],
   "source": [
    "for i in [5, 4, 3, 2, 1]:\n",
    "    print(i)\n",
    "\n",
    "print('BlastOff! ')"
   ]
  },
  {
   "cell_type": "code",
   "execution_count": 6,
   "id": "d40f9638-646a-435e-af14-0fd110b7cb11",
   "metadata": {},
   "outputs": [
    {
     "name": "stdout",
     "output_type": "stream",
     "text": [
      "Haider Because of You, i stressed a little less , i smile a lot more 😊\n",
      "Done!\n"
     ]
    }
   ],
   "source": [
    "# definite Loop with string \n",
    "friends = ['Haider']\n",
    "for friend in friends:\n",
    "    print(friend,'Because of You, i stressed a little less , i smile a lot more 😊')\n",
    "\n",
    "print('Done!')\n",
    "    "
   ]
  },
  {
   "cell_type": "code",
   "execution_count": 7,
   "id": "9452da9a-928f-4e79-b4cb-d69794981091",
   "metadata": {},
   "outputs": [
    {
     "name": "stdout",
     "output_type": "stream",
     "text": [
      "Before -1\n",
      "9 9\n",
      "41 41\n",
      "74 74\n",
      "After 74\n"
     ]
    }
   ],
   "source": [
    "# Find the Largest value\n",
    "largest_so_far = -1\n",
    "print('Before', largest_so_far)\n",
    "for the_num in [9, 41, 12, 3, 74, 15]:\n",
    "    if the_num > largest_so_far:\n",
    "        largest_so_far = the_num\n",
    "        print(largest_so_far,the_num)\n",
    "\n",
    "print('After',largest_so_far)"
   ]
  },
  {
   "cell_type": "code",
   "execution_count": 8,
   "id": "76300c2b-53c2-41d4-8080-bfa7b18c21c2",
   "metadata": {},
   "outputs": [
    {
     "name": "stdout",
     "output_type": "stream",
     "text": [
      "Before\n",
      "3 3\n",
      "after 3\n"
     ]
    }
   ],
   "source": [
    "# Find the smallest\n",
    "smallest = None\n",
    "print('Before')\n",
    "for value in [9, 41, 12, 12, 3, 74, 15]:\n",
    "    if smallest is None:\n",
    "        smallest = value\n",
    "    elif value < smallest:\n",
    "        smallest = value\n",
    "        print(smallest,value)\n",
    "\n",
    "print('after', smallest)"
   ]
  },
  {
   "cell_type": "code",
   "execution_count": 9,
   "id": "30a3c706-161e-40c7-ad67-e8230ddbbbd6",
   "metadata": {},
   "outputs": [
    {
     "name": "stdout",
     "output_type": "stream",
     "text": [
      "Large # : 41\n",
      "Large # : 74\n"
     ]
    }
   ],
   "source": [
    "# filtering in  a loop \n",
    "for value in [9, 41, 12, 12, 3, 74, 15]:\n",
    "    if value > 20:\n",
    "        print('Large # :', value)"
   ]
  },
  {
   "cell_type": "code",
   "execution_count": null,
   "id": "562a6463-f70e-4d47-b616-39722e36db14",
   "metadata": {},
   "outputs": [],
   "source": []
  }
 ],
 "metadata": {
  "kernelspec": {
   "display_name": "Python 3 (ipykernel)",
   "language": "python",
   "name": "python3"
  },
  "language_info": {
   "codemirror_mode": {
    "name": "ipython",
    "version": 3
   },
   "file_extension": ".py",
   "mimetype": "text/x-python",
   "name": "python",
   "nbconvert_exporter": "python",
   "pygments_lexer": "ipython3",
   "version": "3.12.4"
  }
 },
 "nbformat": 4,
 "nbformat_minor": 5
}
